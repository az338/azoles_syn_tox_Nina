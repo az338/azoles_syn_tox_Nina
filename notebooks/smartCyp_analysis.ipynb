{
 "metadata": {
  "name": ""
 },
 "nbformat": 3,
 "nbformat_minor": 0,
 "worksheets": [
  {
   "cells": [
    {
     "cell_type": "code",
     "collapsed": false,
     "input": [
      "import pandas as pd\n",
      "import scipy.stats as ss\n",
      "import numpy as np\n",
      "import matplotlib.pyplot as plt\n",
      "#from bokeh.charts import Histogram\n",
      "#from bokeh.sampledata.autompg import autompg as df\n",
      "#from bokeh.charts import defaults, vplot, hplot, show, output_notebook\n",
      "#output_notebook()\n",
      "#import plotly.plotly as py\n",
      "#import plotly.graph_objs as go\n",
      "\n",
      "%matplotlib inline \n",
      "%pylab inline\n",
      "pylab.rcParams['figure.figsize'] = (8.0, 8.0)"
     ],
     "language": "python",
     "metadata": {},
     "outputs": [
      {
       "output_type": "stream",
       "stream": "stdout",
       "text": [
        "Populating the interactive namespace from numpy and matplotlib\n"
       ]
      }
     ],
     "prompt_number": 70
    },
    {
     "cell_type": "heading",
     "level": 1,
     "metadata": {},
     "source": [
      "Data import and processing"
     ]
    },
    {
     "cell_type": "code",
     "collapsed": false,
     "input": [
      "DATA_DIR = '/home/az338/ucc-fileserver//ucc_az/azoles_synergistic_tox_Nina/data/'\n",
      "\n",
      "\n",
      "\n",
      "# load scores obtained on the set of azoles\n",
      "cypScores_azoles = pd.read_csv(DATA_DIR+'SMARTCyp_Results_azoles_2015-11-24_17-33-21.csv')\n",
      "\n",
      "# load random sets\n",
      "cypScores_random_1  = pd.read_csv(DATA_DIR+'SMARTCyp_Results_random_2015-11-24_17-52-18.csv')\n",
      "cypScores_random_2  = pd.read_csv(DATA_DIR+'SMARTCyp_Results_random2_2015-11-24_17-53-55.csv')\n",
      "cypScores_random_2['Molecule'] = cypScores_random_2['Molecule'] + 250\n",
      "cypScores_random_3  = pd.read_csv(DATA_DIR+'SMARTCyp_Results_random3_2015-11-24_17-55-31.csv')\n",
      "cypScores_random_3['Molecule'] = cypScores_random_3['Molecule'] + 500\n",
      "cypScores_random_4  = pd.read_csv(DATA_DIR+'SMARTCyp_Results_random4_2015-11-24_17-56-30.csv')\n",
      "cypScores_random_4['Molecule'] = cypScores_random_4['Molecule'] + 750\n",
      "\n",
      "# load toxcast subset\n",
      "cypScores_toxcast1 = pd.read_csv(DATA_DIR+'SMARTCyp_Results_toxcast_2015-11-24_18-22-33.csv')\n",
      "cypScores_toxcast2 = pd.read_csv(DATA_DIR+'SMARTCyp_Results_toxcast2_2015-11-24_18-25-37.csv')\n",
      "cypScores_toxcast2['Molecule'] = cypScores_toxcast2['Molecule'] + 250\n",
      "cypScores_toxcast3 = pd.read_csv(DATA_DIR+'SMARTCyp_Results_toxcast3_2015-11-24_18-27-21.csv')\n",
      "cypScores_toxcast3['Molecule'] = cypScores_toxcast3['Molecule'] + 500\n",
      "cypScores_toxcast4  = pd.read_csv(DATA_DIR+'SMARTCyp_Results_toxcast4_2015-11-24_18-28-31.csv')\n",
      "cypScores_toxcast4['Molecule'] = cypScores_toxcast4['Molecule'] + 750\n",
      "\n",
      "\n",
      "\n",
      "# concatenate data sets\n",
      "cypScores_random = pd.concat([cypScores_random_1,cypScores_random_2,cypScores_random_3,cypScores_random_4])\n",
      "cypScores_toxcast = pd.concat([cypScores_toxcast1,cypScores_toxcast2,cypScores_toxcast3,cypScores_toxcast4])\n"
     ],
     "language": "python",
     "metadata": {},
     "outputs": [],
     "prompt_number": 71
    },
    {
     "cell_type": "code",
     "collapsed": false,
     "input": [
      "cypScores_azoles.head()"
     ],
     "language": "python",
     "metadata": {},
     "outputs": [
      {
       "html": [
        "<div style=\"max-height:1000px;max-width:1500px;overflow:auto;\">\n",
        "<table border=\"1\" class=\"dataframe\">\n",
        "  <thead>\n",
        "    <tr style=\"text-align: right;\">\n",
        "      <th></th>\n",
        "      <th>Molecule</th>\n",
        "      <th>Atom</th>\n",
        "      <th>Ranking</th>\n",
        "      <th>Score</th>\n",
        "      <th>Energy</th>\n",
        "      <th>Relative Span</th>\n",
        "      <th>2D6ranking</th>\n",
        "      <th>2D6score</th>\n",
        "      <th>Span2End</th>\n",
        "      <th>N+Dist</th>\n",
        "      <th>2Cranking</th>\n",
        "      <th>2Cscore</th>\n",
        "      <th>COODist</th>\n",
        "      <th>2DSASA</th>\n",
        "    </tr>\n",
        "  </thead>\n",
        "  <tbody>\n",
        "    <tr>\n",
        "      <th>0</th>\n",
        "      <td> 1</td>\n",
        "      <td> C.1</td>\n",
        "      <td>  3</td>\n",
        "      <td> 60.45</td>\n",
        "      <td> 69.4</td>\n",
        "      <td> 0.92</td>\n",
        "      <td>  2</td>\n",
        "      <td>  74.48</td>\n",
        "      <td> 1</td>\n",
        "      <td> 0</td>\n",
        "      <td>  2</td>\n",
        "      <td>  73.68</td>\n",
        "      <td> 0</td>\n",
        "      <td> 40.39</td>\n",
        "    </tr>\n",
        "    <tr>\n",
        "      <th>1</th>\n",
        "      <td> 1</td>\n",
        "      <td> C.2</td>\n",
        "      <td>  4</td>\n",
        "      <td> 70.12</td>\n",
        "      <td> 78.1</td>\n",
        "      <td> 0.83</td>\n",
        "      <td>  6</td>\n",
        "      <td>  90.19</td>\n",
        "      <td> 2</td>\n",
        "      <td> 0</td>\n",
        "      <td>  6</td>\n",
        "      <td>  88.59</td>\n",
        "      <td> 0</td>\n",
        "      <td> 32.71</td>\n",
        "    </tr>\n",
        "    <tr>\n",
        "      <th>2</th>\n",
        "      <td> 1</td>\n",
        "      <td> N.3</td>\n",
        "      <td> 14</td>\n",
        "      <td> 86.08</td>\n",
        "      <td> 92.1</td>\n",
        "      <td> 0.75</td>\n",
        "      <td> 13</td>\n",
        "      <td> 112.18</td>\n",
        "      <td> 3</td>\n",
        "      <td> 0</td>\n",
        "      <td> 14</td>\n",
        "      <td> 109.78</td>\n",
        "      <td> 0</td>\n",
        "      <td>  0.46</td>\n",
        "    </tr>\n",
        "    <tr>\n",
        "      <th>3</th>\n",
        "      <td> 1</td>\n",
        "      <td> C.4</td>\n",
        "      <td>  1</td>\n",
        "      <td> 49.85</td>\n",
        "      <td> 57.9</td>\n",
        "      <td> 0.83</td>\n",
        "      <td>  1</td>\n",
        "      <td>  69.91</td>\n",
        "      <td> 2</td>\n",
        "      <td> 0</td>\n",
        "      <td>  1</td>\n",
        "      <td>  68.31</td>\n",
        "      <td> 0</td>\n",
        "      <td> 34.66</td>\n",
        "    </tr>\n",
        "    <tr>\n",
        "      <th>4</th>\n",
        "      <td> 1</td>\n",
        "      <td> N.5</td>\n",
        "      <td> 13</td>\n",
        "      <td> 83.58</td>\n",
        "      <td> 92.1</td>\n",
        "      <td> 0.92</td>\n",
        "      <td> 10</td>\n",
        "      <td>  97.62</td>\n",
        "      <td> 1</td>\n",
        "      <td> 0</td>\n",
        "      <td> 10</td>\n",
        "      <td>  96.82</td>\n",
        "      <td> 0</td>\n",
        "      <td> 29.55</td>\n",
        "    </tr>\n",
        "  </tbody>\n",
        "</table>\n",
        "<p>5 rows \u00d7 14 columns</p>\n",
        "</div>"
       ],
       "metadata": {},
       "output_type": "pyout",
       "prompt_number": 72,
       "text": [
        "   Molecule Atom  Ranking  Score  Energy  Relative Span  2D6ranking  2D6score  \\\n",
        "0         1  C.1        3  60.45    69.4           0.92           2     74.48   \n",
        "1         1  C.2        4  70.12    78.1           0.83           6     90.19   \n",
        "2         1  N.3       14  86.08    92.1           0.75          13    112.18   \n",
        "3         1  C.4        1  49.85    57.9           0.83           1     69.91   \n",
        "4         1  N.5       13  83.58    92.1           0.92          10     97.62   \n",
        "\n",
        "   Span2End  N+Dist  2Cranking  2Cscore  COODist  2DSASA  \n",
        "0         1       0          2    73.68        0   40.39  \n",
        "1         2       0          6    88.59        0   32.71  \n",
        "2         3       0         14   109.78        0    0.46  \n",
        "3         2       0          1    68.31        0   34.66  \n",
        "4         1       0         10    96.82        0   29.55  \n",
        "\n",
        "[5 rows x 14 columns]"
       ]
      }
     ],
     "prompt_number": 72
    },
    {
     "cell_type": "code",
     "collapsed": false,
     "input": [
      "cypScores_toxcast.head()"
     ],
     "language": "python",
     "metadata": {},
     "outputs": [
      {
       "html": [
        "<div style=\"max-height:1000px;max-width:1500px;overflow:auto;\">\n",
        "<table border=\"1\" class=\"dataframe\">\n",
        "  <thead>\n",
        "    <tr style=\"text-align: right;\">\n",
        "      <th></th>\n",
        "      <th>Molecule</th>\n",
        "      <th>Atom</th>\n",
        "      <th>Ranking</th>\n",
        "      <th>Score</th>\n",
        "      <th>Energy</th>\n",
        "      <th>Relative Span</th>\n",
        "      <th>2D6ranking</th>\n",
        "      <th>2D6score</th>\n",
        "      <th>Span2End</th>\n",
        "      <th>N+Dist</th>\n",
        "      <th>2Cranking</th>\n",
        "      <th>2Cscore</th>\n",
        "      <th>COODist</th>\n",
        "      <th>2DSASA</th>\n",
        "    </tr>\n",
        "  </thead>\n",
        "  <tbody>\n",
        "    <tr>\n",
        "      <th>0</th>\n",
        "      <td> 1</td>\n",
        "      <td> C.1</td>\n",
        "      <td> 20</td>\n",
        "      <td> 81.28</td>\n",
        "      <td> 89.6</td>\n",
        "      <td> 0.74</td>\n",
        "      <td> 19</td>\n",
        "      <td> 114.02</td>\n",
        "      <td> 5</td>\n",
        "      <td> 10</td>\n",
        "      <td> 20</td>\n",
        "      <td> 110.82</td>\n",
        "      <td> 14</td>\n",
        "      <td> 60.71</td>\n",
        "    </tr>\n",
        "    <tr>\n",
        "      <th>1</th>\n",
        "      <td> 1</td>\n",
        "      <td> C.2</td>\n",
        "      <td> 16</td>\n",
        "      <td> 69.39</td>\n",
        "      <td> 75.9</td>\n",
        "      <td> 0.68</td>\n",
        "      <td> 11</td>\n",
        "      <td> 101.72</td>\n",
        "      <td> 6</td>\n",
        "      <td>  9</td>\n",
        "      <td> 13</td>\n",
        "      <td>  98.52</td>\n",
        "      <td> 13</td>\n",
        "      <td> 25.89</td>\n",
        "    </tr>\n",
        "    <tr>\n",
        "      <th>2</th>\n",
        "      <td> 1</td>\n",
        "      <td> C.3</td>\n",
        "      <td> 19</td>\n",
        "      <td> 70.61</td>\n",
        "      <td> 75.9</td>\n",
        "      <td> 0.63</td>\n",
        "      <td> 15</td>\n",
        "      <td> 102.53</td>\n",
        "      <td> 7</td>\n",
        "      <td>  8</td>\n",
        "      <td> 17</td>\n",
        "      <td>  99.33</td>\n",
        "      <td> 12</td>\n",
        "      <td>  5.91</td>\n",
        "    </tr>\n",
        "    <tr>\n",
        "      <th>3</th>\n",
        "      <td> 1</td>\n",
        "      <td> C.4</td>\n",
        "      <td> 22</td>\n",
        "      <td> 82.09</td>\n",
        "      <td> 89.6</td>\n",
        "      <td> 0.68</td>\n",
        "      <td> 21</td>\n",
        "      <td> 114.43</td>\n",
        "      <td> 6</td>\n",
        "      <td>  9</td>\n",
        "      <td> 22</td>\n",
        "      <td> 111.23</td>\n",
        "      <td> 13</td>\n",
        "      <td> 50.85</td>\n",
        "    </tr>\n",
        "    <tr>\n",
        "      <th>4</th>\n",
        "      <td> 1</td>\n",
        "      <td> C.5</td>\n",
        "      <td> 13</td>\n",
        "      <td> 59.04</td>\n",
        "      <td> 63.9</td>\n",
        "      <td> 0.58</td>\n",
        "      <td>  9</td>\n",
        "      <td>  97.25</td>\n",
        "      <td> 8</td>\n",
        "      <td>  7</td>\n",
        "      <td> 11</td>\n",
        "      <td>  87.35</td>\n",
        "      <td> 11</td>\n",
        "      <td>  5.66</td>\n",
        "    </tr>\n",
        "  </tbody>\n",
        "</table>\n",
        "<p>5 rows \u00d7 14 columns</p>\n",
        "</div>"
       ],
       "metadata": {},
       "output_type": "pyout",
       "prompt_number": 73,
       "text": [
        "   Molecule Atom  Ranking  Score  Energy  Relative Span  2D6ranking  2D6score  \\\n",
        "0         1  C.1       20  81.28    89.6           0.74          19    114.02   \n",
        "1         1  C.2       16  69.39    75.9           0.68          11    101.72   \n",
        "2         1  C.3       19  70.61    75.9           0.63          15    102.53   \n",
        "3         1  C.4       22  82.09    89.6           0.68          21    114.43   \n",
        "4         1  C.5       13  59.04    63.9           0.58           9     97.25   \n",
        "\n",
        "   Span2End  N+Dist  2Cranking  2Cscore  COODist  2DSASA  \n",
        "0         5      10         20   110.82       14   60.71  \n",
        "1         6       9         13    98.52       13   25.89  \n",
        "2         7       8         17    99.33       12    5.91  \n",
        "3         6       9         22   111.23       13   50.85  \n",
        "4         8       7         11    87.35       11    5.66  \n",
        "\n",
        "[5 rows x 14 columns]"
       ]
      }
     ],
     "prompt_number": 73
    },
    {
     "cell_type": "code",
     "collapsed": false,
     "input": [
      "cypScores_random.tail()"
     ],
     "language": "python",
     "metadata": {},
     "outputs": [
      {
       "html": [
        "<div style=\"max-height:1000px;max-width:1500px;overflow:auto;\">\n",
        "<table border=\"1\" class=\"dataframe\">\n",
        "  <thead>\n",
        "    <tr style=\"text-align: right;\">\n",
        "      <th></th>\n",
        "      <th>Molecule</th>\n",
        "      <th>Atom</th>\n",
        "      <th>Ranking</th>\n",
        "      <th>Score</th>\n",
        "      <th>Energy</th>\n",
        "      <th>Relative Span</th>\n",
        "      <th>2D6ranking</th>\n",
        "      <th>2D6score</th>\n",
        "      <th>Span2End</th>\n",
        "      <th>N+Dist</th>\n",
        "      <th>2Cranking</th>\n",
        "      <th>2Cscore</th>\n",
        "      <th>COODist</th>\n",
        "      <th>2DSASA</th>\n",
        "    </tr>\n",
        "  </thead>\n",
        "  <tbody>\n",
        "    <tr>\n",
        "      <th>5671</th>\n",
        "      <td> 1000</td>\n",
        "      <td> C.40</td>\n",
        "      <td> 31</td>\n",
        "      <td> 992.00</td>\n",
        "      <td> 999.0</td>\n",
        "      <td> 0.86</td>\n",
        "      <td> 30</td>\n",
        "      <td> 1018.96</td>\n",
        "      <td> 3</td>\n",
        "      <td> 12</td>\n",
        "      <td> 31</td>\n",
        "      <td> 1016.56</td>\n",
        "      <td> 0</td>\n",
        "      <td>  3.58</td>\n",
        "    </tr>\n",
        "    <tr>\n",
        "      <th>5672</th>\n",
        "      <td> 1000</td>\n",
        "      <td> C.41</td>\n",
        "      <td> 36</td>\n",
        "      <td> 993.87</td>\n",
        "      <td> 999.0</td>\n",
        "      <td> 0.62</td>\n",
        "      <td> 33</td>\n",
        "      <td> 1025.70</td>\n",
        "      <td> 8</td>\n",
        "      <td> 10</td>\n",
        "      <td> 35</td>\n",
        "      <td> 1022.50</td>\n",
        "      <td> 0</td>\n",
        "      <td>  4.54</td>\n",
        "    </tr>\n",
        "    <tr>\n",
        "      <th>5673</th>\n",
        "      <td> 1000</td>\n",
        "      <td> C.44</td>\n",
        "      <td> 10</td>\n",
        "      <td>  67.54</td>\n",
        "      <td>  75.9</td>\n",
        "      <td> 0.71</td>\n",
        "      <td> 14</td>\n",
        "      <td>  100.11</td>\n",
        "      <td> 6</td>\n",
        "      <td> 12</td>\n",
        "      <td> 17</td>\n",
        "      <td>   96.91</td>\n",
        "      <td> 0</td>\n",
        "      <td> 66.23</td>\n",
        "    </tr>\n",
        "    <tr>\n",
        "      <th>5674</th>\n",
        "      <td> 1000</td>\n",
        "      <td> C.45</td>\n",
        "      <td> 23</td>\n",
        "      <td>  79.52</td>\n",
        "      <td>  86.3</td>\n",
        "      <td> 0.71</td>\n",
        "      <td> 19</td>\n",
        "      <td>  112.09</td>\n",
        "      <td> 6</td>\n",
        "      <td> 12</td>\n",
        "      <td> 23</td>\n",
        "      <td>  108.89</td>\n",
        "      <td> 0</td>\n",
        "      <td> 26.64</td>\n",
        "    </tr>\n",
        "    <tr>\n",
        "      <th>5675</th>\n",
        "      <td> 1000</td>\n",
        "      <td> C.46</td>\n",
        "      <td> 13</td>\n",
        "      <td>  69.96</td>\n",
        "      <td>  77.2</td>\n",
        "      <td> 0.76</td>\n",
        "      <td> 17</td>\n",
        "      <td>  102.91</td>\n",
        "      <td> 5</td>\n",
        "      <td> 13</td>\n",
        "      <td> 22</td>\n",
        "      <td>   99.71</td>\n",
        "      <td> 0</td>\n",
        "      <td> 28.60</td>\n",
        "    </tr>\n",
        "  </tbody>\n",
        "</table>\n",
        "<p>5 rows \u00d7 14 columns</p>\n",
        "</div>"
       ],
       "metadata": {},
       "output_type": "pyout",
       "prompt_number": 74,
       "text": [
        "      Molecule  Atom  Ranking   Score  Energy  Relative Span  2D6ranking  \\\n",
        "5671      1000  C.40       31  992.00   999.0           0.86          30   \n",
        "5672      1000  C.41       36  993.87   999.0           0.62          33   \n",
        "5673      1000  C.44       10   67.54    75.9           0.71          14   \n",
        "5674      1000  C.45       23   79.52    86.3           0.71          19   \n",
        "5675      1000  C.46       13   69.96    77.2           0.76          17   \n",
        "\n",
        "      2D6score  Span2End  N+Dist  2Cranking  2Cscore  COODist  2DSASA  \n",
        "5671   1018.96         3      12         31  1016.56        0    3.58  \n",
        "5672   1025.70         8      10         35  1022.50        0    4.54  \n",
        "5673    100.11         6      12         17    96.91        0   66.23  \n",
        "5674    112.09         6      12         23   108.89        0   26.64  \n",
        "5675    102.91         5      13         22    99.71        0   28.60  \n",
        "\n",
        "[5 rows x 14 columns]"
       ]
      }
     ],
     "prompt_number": 74
    },
    {
     "cell_type": "code",
     "collapsed": false,
     "input": [
      "cypScores_toxcast.tail()"
     ],
     "language": "python",
     "metadata": {},
     "outputs": [
      {
       "html": [
        "<div style=\"max-height:1000px;max-width:1500px;overflow:auto;\">\n",
        "<table border=\"1\" class=\"dataframe\">\n",
        "  <thead>\n",
        "    <tr style=\"text-align: right;\">\n",
        "      <th></th>\n",
        "      <th>Molecule</th>\n",
        "      <th>Atom</th>\n",
        "      <th>Ranking</th>\n",
        "      <th>Score</th>\n",
        "      <th>Energy</th>\n",
        "      <th>Relative Span</th>\n",
        "      <th>2D6ranking</th>\n",
        "      <th>2D6score</th>\n",
        "      <th>Span2End</th>\n",
        "      <th>N+Dist</th>\n",
        "      <th>2Cranking</th>\n",
        "      <th>2Cscore</th>\n",
        "      <th>COODist</th>\n",
        "      <th>2DSASA</th>\n",
        "    </tr>\n",
        "  </thead>\n",
        "  <tbody>\n",
        "    <tr>\n",
        "      <th>4812</th>\n",
        "      <td> 1000</td>\n",
        "      <td> S.22</td>\n",
        "      <td>  5</td>\n",
        "      <td>  37.98</td>\n",
        "      <td>  46.9</td>\n",
        "      <td> 0.93</td>\n",
        "      <td>  1</td>\n",
        "      <td>   52.11</td>\n",
        "      <td> 1</td>\n",
        "      <td> 10</td>\n",
        "      <td>  1</td>\n",
        "      <td>   51.31</td>\n",
        "      <td> 0</td>\n",
        "      <td> 37.31</td>\n",
        "    </tr>\n",
        "    <tr>\n",
        "      <th>4813</th>\n",
        "      <td> 1000</td>\n",
        "      <td> C.23</td>\n",
        "      <td> 18</td>\n",
        "      <td> 991.36</td>\n",
        "      <td> 999.0</td>\n",
        "      <td> 0.93</td>\n",
        "      <td> 18</td>\n",
        "      <td> 1005.49</td>\n",
        "      <td> 1</td>\n",
        "      <td> 10</td>\n",
        "      <td> 18</td>\n",
        "      <td> 1004.69</td>\n",
        "      <td> 0</td>\n",
        "      <td>  5.28</td>\n",
        "    </tr>\n",
        "    <tr>\n",
        "      <th>4814</th>\n",
        "      <td> 1000</td>\n",
        "      <td> C.24</td>\n",
        "      <td> 13</td>\n",
        "      <td>  68.81</td>\n",
        "      <td>  77.2</td>\n",
        "      <td> 0.93</td>\n",
        "      <td>  7</td>\n",
        "      <td>   82.94</td>\n",
        "      <td> 1</td>\n",
        "      <td> 10</td>\n",
        "      <td> 14</td>\n",
        "      <td>   82.14</td>\n",
        "      <td> 0</td>\n",
        "      <td> 23.93</td>\n",
        "    </tr>\n",
        "    <tr>\n",
        "      <th>4815</th>\n",
        "      <td> 1000</td>\n",
        "      <td> C.25</td>\n",
        "      <td> 14</td>\n",
        "      <td>  71.46</td>\n",
        "      <td>  80.8</td>\n",
        "      <td> 1.00</td>\n",
        "      <td>  2</td>\n",
        "      <td>   79.46</td>\n",
        "      <td> 0</td>\n",
        "      <td> 11</td>\n",
        "      <td> 11</td>\n",
        "      <td>   79.46</td>\n",
        "      <td> 0</td>\n",
        "      <td> 33.50</td>\n",
        "    </tr>\n",
        "    <tr>\n",
        "      <th>4816</th>\n",
        "      <td> 1000</td>\n",
        "      <td> C.26</td>\n",
        "      <td> 15</td>\n",
        "      <td>  71.67</td>\n",
        "      <td>  80.8</td>\n",
        "      <td> 1.00</td>\n",
        "      <td>  4</td>\n",
        "      <td>   79.67</td>\n",
        "      <td> 0</td>\n",
        "      <td> 11</td>\n",
        "      <td> 12</td>\n",
        "      <td>   79.67</td>\n",
        "      <td> 0</td>\n",
        "      <td> 28.22</td>\n",
        "    </tr>\n",
        "  </tbody>\n",
        "</table>\n",
        "<p>5 rows \u00d7 14 columns</p>\n",
        "</div>"
       ],
       "metadata": {},
       "output_type": "pyout",
       "prompt_number": 75,
       "text": [
        "      Molecule  Atom  Ranking   Score  Energy  Relative Span  2D6ranking  \\\n",
        "4812      1000  S.22        5   37.98    46.9           0.93           1   \n",
        "4813      1000  C.23       18  991.36   999.0           0.93          18   \n",
        "4814      1000  C.24       13   68.81    77.2           0.93           7   \n",
        "4815      1000  C.25       14   71.46    80.8           1.00           2   \n",
        "4816      1000  C.26       15   71.67    80.8           1.00           4   \n",
        "\n",
        "      2D6score  Span2End  N+Dist  2Cranking  2Cscore  COODist  2DSASA  \n",
        "4812     52.11         1      10          1    51.31        0   37.31  \n",
        "4813   1005.49         1      10         18  1004.69        0    5.28  \n",
        "4814     82.94         1      10         14    82.14        0   23.93  \n",
        "4815     79.46         0      11         11    79.46        0   33.50  \n",
        "4816     79.67         0      11         12    79.67        0   28.22  \n",
        "\n",
        "[5 rows x 14 columns]"
       ]
      }
     ],
     "prompt_number": 75
    },
    {
     "cell_type": "heading",
     "level": 1,
     "metadata": {},
     "source": [
      "Helper Functions"
     ]
    },
    {
     "cell_type": "code",
     "collapsed": false,
     "input": [
      "# function which computes and compares the median of random samples to \n",
      "# the median of the azole sample\n",
      "def est_vs_random(random,azoles,score,n_azoles=n_azoles,n_samples = 1000):\n",
      "    res = []\n",
      "    med = []\n",
      "    # count number of molecules in azoles score dataset\n",
      "    n_azoles = len(azoles['Molecule'].drop_duplicates())\n",
      "    for i in xrange(n_samples):\n",
      "        sample = np.random.choice(random['Molecule'],n_azoles,replace=True)\n",
      "        score_sample = random[pd.match(random['Molecule'],sample) >= 0][score]\n",
      "        res.append([azoles[score].median() - score_sample.median(),ss.mstats.kruskalwallis(azoles[score],score_sample)[1]])\n",
      "        med.append(score_sample.median())\n",
      "    return res,med\n",
      "\n",
      "\n",
      "def plot_distr(med_pchem,med_toxcast,med_azoles,title):\n",
      "    med = pd.DataFrame({'Pubchem':med_pchem,\n",
      "                    'ToxCast':med_toxcast},\n",
      "                    columns = ['Pubchem','ToxCast'])\n",
      "    bins = np.linspace(min(med_pchem+med_toxcast),max(med_pchem+med_toxcast),50)\n",
      "    plt.hist(med['Pubchem'],alpha=.75,bins=bins,label='Pubchem samples')\n",
      "    plt.hist(med['ToxCast'],alpha=.75,bins=bins,label='ToxCast samples')\n",
      "    plt.axvline(med_azoles,color='red',label='Azoles')\n",
      "    pyplot.legend(loc='upper right')\n",
      "    plt.title(title)\n",
      "    plt.xlabel('Sample median score')\n",
      "    \n"
     ],
     "language": "python",
     "metadata": {},
     "outputs": [],
     "prompt_number": 76
    },
    {
     "cell_type": "heading",
     "level": 1,
     "metadata": {},
     "source": [
      "General CYP model"
     ]
    },
    {
     "cell_type": "heading",
     "level": 2,
     "metadata": {},
     "source": [
      "All atoms"
     ]
    },
    {
     "cell_type": "code",
     "collapsed": false,
     "input": [
      "# remove atoms unlikely to be SOM \n",
      "score_azoles = cypScores_azoles[cypScores_azoles['Energy'] < 999]\n",
      "score_random = cypScores_random[cypScores_random['Energy'] < 999]\n",
      "score_toxcast = cypScores_toxcast[cypScores_toxcast['Energy'] < 999]\n",
      "\n",
      "n_azoles =  len(set(score_azoles.Molecule))\n"
     ],
     "language": "python",
     "metadata": {},
     "outputs": [],
     "prompt_number": 77
    },
    {
     "cell_type": "code",
     "collapsed": false,
     "input": [
      "res_pchem,med_pchem = est_vs_random(score_random,score_azoles,'Score')\n",
      "res_toxcast, med_toxcast = est_vs_random(score_toxcast,score_azoles,'Score')\n",
      "res_test = pd.DataFrame(res_pchem,columns=['Diff','P-value'])\n",
      "#res_test.head()"
     ],
     "language": "python",
     "metadata": {},
     "outputs": [],
     "prompt_number": 78
    },
    {
     "cell_type": "code",
     "collapsed": false,
     "input": [
      "plot_distr(med_pchem,med_toxcast,score_azoles['Score'].median(),'Distributions of sample median score (1000 samples)')"
     ],
     "language": "python",
     "metadata": {},
     "outputs": [
      {
       "metadata": {},
       "output_type": "display_data",
       "png": "[encoded data removed]",
       "text": [
        "<matplotlib.figure.Figure at 0x7f8f8eb652d0>"
       ]
      }
     ],
     "prompt_number": 79
    },
    {
     "cell_type": "heading",
     "level": 2,
     "metadata": {},
     "source": [
      "Higher ranking atoms"
     ]
    },
    {
     "cell_type": "code",
     "collapsed": false,
     "input": [
      "azoles_higherRanks = cypScores_azoles[pd.match(cypScores_azoles['Ranking'],[1,2,3]) >= 0]\n",
      "random_higherRanks = cypScores_random[pd.match(cypScores_random['Ranking'],[1,2,3]) >= 0]\n",
      "toxcast_higherRanks = cypScores_toxcast[pd.match(cypScores_toxcast['Ranking'],[1,2,3]) >= 0]\n",
      "res_pchem,med_pchem = est_vs_random(random_higherRanks,azoles_higherRanks,'Score')\n",
      "res_toxcast,med_toxcast = est_vs_random(toxcast_higherRanks,azoles_higherRanks,'Score')"
     ],
     "language": "python",
     "metadata": {},
     "outputs": [],
     "prompt_number": 80
    },
    {
     "cell_type": "code",
     "collapsed": false,
     "input": [
      "plot_distr(med_pchem,med_toxcast,azoles_higherRanks['Score'].median(),'Highest ranking atoms sample median score (1000 samples)')"
     ],
     "language": "python",
     "metadata": {},
     "outputs": [
      {
       "metadata": {},
       "output_type": "display_data",
       "png": "[encoded data removed]",
       "text": [
        "<matplotlib.figure.Figure at 0x7f8f8e06c150>"
       ]
      }
     ],
     "prompt_number": 81
    },
    {
     "cell_type": "heading",
     "level": 1,
     "metadata": {},
     "source": [
      "CYP2D6 model "
     ]
    },
    {
     "cell_type": "heading",
     "level": 2,
     "metadata": {},
     "source": [
      "All atoms"
     ]
    },
    {
     "cell_type": "code",
     "collapsed": false,
     "input": [
      "res_pchem,med_pchem = est_vs_random(score_random,score_azoles,'2D6score')\n",
      "res_toxcast,med_toxcast = est_vs_random(score_toxcast,score_azoles,'2D6score')"
     ],
     "language": "python",
     "metadata": {},
     "outputs": [],
     "prompt_number": 82
    },
    {
     "cell_type": "code",
     "collapsed": false,
     "input": [
      "plot_distr(med_pchem,med_toxcast,score_azoles['2D6score'].median(),'CYP2D6 sample median score (1000 samples)')"
     ],
     "language": "python",
     "metadata": {},
     "outputs": [
      {
       "metadata": {},
       "output_type": "display_data",
       "png": "[encoded data removed]",
       "text": [
        "<matplotlib.figure.Figure at 0x7f8f8e979690>"
       ]
      }
     ],
     "prompt_number": 83
    },
    {
     "cell_type": "heading",
     "level": 2,
     "metadata": {},
     "source": [
      "Higher ranking atoms"
     ]
    },
    {
     "cell_type": "code",
     "collapsed": false,
     "input": [
      "azoles_higherRanks = cypScores_azoles[pd.match(cypScores_azoles['2D6ranking'],[1,2,3]) >= 0]\n",
      "random_higherRanks = cypScores_random[pd.match(cypScores_random['2D6ranking'],[1,2,3]) >= 0]\n",
      "toxcast_higherRanks = cypScores_toxcast[pd.match(cypScores_toxcast['2D6ranking'],[1,2,3]) >= 0]\n",
      "res_pchem,med_pchem = est_vs_random(random_higherRanks,azoles_higherRanks,'2D6score')\n",
      "res_toxcast,med_toxcast = est_vs_random(toxcast_higherRanks,azoles_higherRanks,'2D6score')"
     ],
     "language": "python",
     "metadata": {},
     "outputs": [],
     "prompt_number": 84
    },
    {
     "cell_type": "code",
     "collapsed": false,
     "input": [
      "plot_distr(med_pchem,med_toxcast,azoles_higherRanks['2D6score'].median(),'Highest ranking atoms in CYP2D6 model, sample median scores (1000 samples)')"
     ],
     "language": "python",
     "metadata": {},
     "outputs": [
      {
       "metadata": {},
       "output_type": "display_data",
       "png": "[encoded data removed]",
       "text": [
        "<matplotlib.figure.Figure at 0x7f8f8e438210>"
       ]
      }
     ],
     "prompt_number": 85
    },
    {
     "cell_type": "heading",
     "level": 1,
     "metadata": {},
     "source": [
      "CYP2C9 model"
     ]
    },
    {
     "cell_type": "heading",
     "level": 2,
     "metadata": {},
     "source": [
      "All atoms"
     ]
    },
    {
     "cell_type": "code",
     "collapsed": false,
     "input": [
      "res_pchem,med_pchem = est_vs_random(score_random,score_azoles,'2Cscore')\n",
      "res_toxcast,med_toxcast = est_vs_random(score_toxcast,score_azoles,'2Cscore')"
     ],
     "language": "python",
     "metadata": {},
     "outputs": [],
     "prompt_number": 86
    },
    {
     "cell_type": "code",
     "collapsed": false,
     "input": [
      "plot_distr(med_pchem,med_toxcast,score_azoles['2Cscore'].median(),'CYP2C9 sample median score (1000 samples)')"
     ],
     "language": "python",
     "metadata": {},
     "outputs": [
      {
       "metadata": {},
       "output_type": "display_data",
       "png": "[encoded data removed]",
       "text": [
        "<matplotlib.figure.Figure at 0x7f8f8de97550>"
       ]
      }
     ],
     "prompt_number": 87
    },
    {
     "cell_type": "heading",
     "level": 2,
     "metadata": {},
     "source": [
      "Higher ranking atoms"
     ]
    },
    {
     "cell_type": "code",
     "collapsed": false,
     "input": [
      "azoles_higherRanks = cypScores_azoles[pd.match(cypScores_azoles['2Cranking'],[1,2,3]) >= 0]\n",
      "random_higherRanks = cypScores_random[pd.match(cypScores_random['2Cranking'],[1,2,3]) >= 0]\n",
      "toxcast_higherRanks = cypScores_toxcast[pd.match(cypScores_toxcast['2Cranking'],[1,2,3]) >= 0]\n",
      "res_pchem,med_pchem = est_vs_random(random_higherRanks,azoles_higherRanks,score='2Cscore')\n",
      "res_toxcast,med_toxcast = est_vs_random(toxcast_higherRanks,azoles_higherRanks,score='2Cscore')"
     ],
     "language": "python",
     "metadata": {},
     "outputs": [],
     "prompt_number": 90
    },
    {
     "cell_type": "code",
     "collapsed": false,
     "input": [
      "plot_distr(med_pchem,med_toxcast,azoles_higherRanks['2Cscore'].median(),'Highest ranking atoms in CYP2C9 model, sample median scores (1000 samples)')"
     ],
     "language": "python",
     "metadata": {},
     "outputs": [
      {
       "metadata": {},
       "output_type": "display_data",
       "png": "[encoded data removed]",
       "text": [
        "<matplotlib.figure.Figure at 0x7f8f8e271890>"
       ]
      }
     ],
     "prompt_number": 91
    }
   ],
   "metadata": {}
  }
 ]
}